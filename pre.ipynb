{
 "cells": [
  {
   "cell_type": "markdown",
   "id": "ad78a8e8",
   "metadata": {},
   "source": [
    "ИМПОРТ БИБЛИОТЕК"
   ]
  },
  {
   "cell_type": "code",
   "execution_count": 1,
   "id": "bcf4a9c8",
   "metadata": {},
   "outputs": [],
   "source": [
    "import pandas as pd\n",
    "import os\n",
    "import glob\n",
    "import numpy as np\n",
    "from sklearn.preprocessing import StandardScaler, LabelEncoder\n",
    "from sklearn.model_selection import train_test_split\n",
    "from keras.models import Sequential\n",
    "from keras.layers import Dense\n",
    "from dict import file_categories\n",
    "from categories import category_map"
   ]
  },
  {
   "cell_type": "markdown",
   "id": "a88e4ce8",
   "metadata": {},
   "source": [
    "ЗАГРУЗКА ФАЙЛОВ"
   ]
  },
  {
   "cell_type": "code",
   "execution_count": 2,
   "id": "3cc8e55f",
   "metadata": {},
   "outputs": [
    {
     "name": "stdout",
     "output_type": "stream",
     "text": [
      "всего файлов - 30\n"
     ]
    }
   ],
   "source": [
    "path = \"C:/Users/User/Downloads/archive (2)/files\"\n",
    "csv_files = glob.glob(os.path.join(path, \"*.csv\"))\n",
    "print(f\"всего файлов - {len(csv_files)}\")"
   ]
  },
  {
   "cell_type": "markdown",
   "id": "3c3b9ce6",
   "metadata": {},
   "source": [
    "ОБЪЕДИНЯЕМ ФАЙЛЫ В ОДИН ДАТАФРЕЙМ С РАЗМЕТКОЙ\n",
    "\n",
    "1 читаем файл из /files\n",
    "\n",
    "2 добавляем в дф категорию (разметку)\n",
    "\n",
    "3 "
   ]
  },
  {
   "cell_type": "code",
   "execution_count": 4,
   "id": "ea39996c",
   "metadata": {},
   "outputs": [],
   "source": [
    "def get_category_by_number(file_name):\n",
    "    file_number = file_name.split(' - ')[0]   \n",
    "    return category_map.get(file_number, 'Unknown')"
   ]
  },
  {
   "cell_type": "code",
   "execution_count": 5,
   "id": "ca4ff21a",
   "metadata": {},
   "outputs": [],
   "source": [
    "all_data = []\n",
    "\n",
    "for file in csv_files:\n",
    "    file_name = os.path.basename(file)\n",
    "    \n",
    "    try:\n",
    "        category = get_category_by_number(file_name)\n",
    "        df = pd.read_csv(file)\n",
    "        df['category'] = category\n",
    "        all_data.append(df)\n",
    "\n",
    "    except Exception as e:\n",
    "        print(f\"Ошибка загрузки {file_name}: {e}\")"
   ]
  },
  {
   "cell_type": "code",
   "execution_count": 6,
   "id": "69578153",
   "metadata": {},
   "outputs": [
    {
     "name": "stdout",
     "output_type": "stream",
     "text": [
      "ОБЗОР ДАННЫХ:\n",
      "Общий размер: (3532165, 5)\n",
      "Общее количество записей: 3,532,165\n",
      "\n",
      "РАСПРЕДЕЛЕНИЕ ПО КАТЕГОРИЯМ:\n",
      "  Mechanical and Electrical fault: 507,682 записей (14.4%)\n",
      "  Mechanical and Electrical fault with noise: 416,871 записей (11.8%)\n",
      "  Electrical fault with noise: 319,095 записей (9.0%)\n",
      "  Electrical fault: 313,321 записей (8.9%)\n",
      "  Mechanical and Electrical fault with load and noise: 282,689 записей (8.0%)\n",
      "  Mechanical fault (shaft misalignment): 243,313 записей (6.9%)\n",
      "  Electrical fault with load and noise: 215,550 записей (6.1%)\n",
      "  Electrical fault with load: 206,158 записей (5.8%)\n",
      "  Mechanical fault with high noise: 155,047 записей (4.4%)\n",
      "  Mechanical fault with noise: 153,466 записей (4.3%)\n",
      "  Mechanical fault (shaft misalignment) with load: 151,123 записей (4.3%)\n",
      "  Mechanical fault with load and noise: 151,016 записей (4.3%)\n",
      "  Normal operation: 107,346 записей (3.0%)\n",
      "  Normal operation with load and noise: 104,468 записей (3.0%)\n",
      "  Normal operation with load: 102,909 записей (2.9%)\n",
      "  Normal operation with noise: 102,111 записей (2.9%)\n",
      "\n",
      "данные сохранены в файл: dataset_complete.csv\n"
     ]
    }
   ],
   "source": [
    "if all_data:\n",
    "    combined_df = pd.concat(all_data, ignore_index=True)\n",
    "\n",
    "    print(\"ОБЗОР ДАННЫХ:\")\n",
    "    print(f\"Общий размер: {combined_df.shape}\")\n",
    "    print(f\"Общее количество записей: {len(combined_df):,}\")\n",
    "    \n",
    "    print(\"\\nРАСПРЕДЕЛЕНИЕ ПО КАТЕГОРИЯМ:\")\n",
    "    category_counts = combined_df['category'].value_counts()\n",
    "    for category, count in category_counts.items():\n",
    "        percentage = (count / len(combined_df)) * 100\n",
    "        print(f\"  {category}: {count:,} записей ({percentage:.1f}%)\")\n",
    "\n",
    "    output_file = \"dataset_complete.csv\"\n",
    "    combined_df.to_csv(output_file, index=False)\n",
    "    print(f\"\\nданные сохранены в файл: {output_file}\")"
   ]
  },
  {
   "cell_type": "code",
   "execution_count": 7,
   "id": "e61549d1",
   "metadata": {},
   "outputs": [
    {
     "name": "stdout",
     "output_type": "stream",
     "text": [
      "   Timestamp    AccX   AccY     AccZ          category\n",
      "0    2141864  3624.0 -567.0  17452.0  Normal operation\n",
      "1    2143688  -649.0 -688.0  16899.0  Normal operation\n",
      "2    2145492   -21.0  -66.0  14555.0  Normal operation\n",
      "3    2147308 -1207.0  923.0  12459.0  Normal operation\n",
      "4    2149108   208.0  -16.0  14951.0  Normal operation\n"
     ]
    }
   ],
   "source": [
    "print(combined_df.head())"
   ]
  },
  {
   "cell_type": "markdown",
   "id": "47f81a97",
   "metadata": {},
   "source": [
    "структура \n",
    "\n",
    "1 временная метка\n",
    "\n",
    "2 показания акселерометра ось х\n",
    "\n",
    "3 показания акселерометра ось y\n",
    "\n",
    "4 показания акселерометра ось z\n",
    "\n",
    "5 категория "
   ]
  },
  {
   "cell_type": "code",
   "execution_count": 8,
   "id": "612e0360",
   "metadata": {},
   "outputs": [
    {
     "name": "stdout",
     "output_type": "stream",
     "text": [
      "<class 'pandas.core.frame.DataFrame'>\n",
      "RangeIndex: 3532165 entries, 0 to 3532164\n",
      "Data columns (total 5 columns):\n",
      " #   Column     Dtype  \n",
      "---  ------     -----  \n",
      " 0   Timestamp  int64  \n",
      " 1   AccX       float64\n",
      " 2   AccY       float64\n",
      " 3   AccZ       float64\n",
      " 4   category   object \n",
      "dtypes: float64(3), int64(1), object(1)\n",
      "memory usage: 134.7+ MB\n",
      "None\n"
     ]
    }
   ],
   "source": [
    "print(combined_df.info())"
   ]
  },
  {
   "cell_type": "markdown",
   "id": "80f89ba6",
   "metadata": {},
   "source": [
    "пропусков нет, типы данных корректны"
   ]
  },
  {
   "cell_type": "code",
   "execution_count": 9,
   "id": "a9cf4934",
   "metadata": {},
   "outputs": [
    {
     "name": "stdout",
     "output_type": "stream",
     "text": [
      "Пропуски в данных:\n",
      "Timestamp    0\n",
      "AccX         1\n",
      "AccY         1\n",
      "AccZ         2\n",
      "category     0\n",
      "dtype: int64\n",
      "Всего пропусков: 4\n"
     ]
    }
   ],
   "source": [
    "print(\"Пропуски в данных:\")\n",
    "print(combined_df.isnull().sum())\n",
    "print(f\"Всего пропусков: {combined_df.isnull().sum().sum()}\")"
   ]
  },
  {
   "cell_type": "code",
   "execution_count": 10,
   "id": "04393922",
   "metadata": {},
   "outputs": [],
   "source": [
    "combined_df = combined_df.dropna()"
   ]
  },
  {
   "cell_type": "code",
   "execution_count": 11,
   "id": "f1ae6bfb",
   "metadata": {},
   "outputs": [
    {
     "name": "stdout",
     "output_type": "stream",
     "text": [
      "Пропуски в данных:\n",
      "Timestamp    0\n",
      "AccX         0\n",
      "AccY         0\n",
      "AccZ         0\n",
      "category     0\n",
      "dtype: int64\n",
      "Всего пропусков: 0\n"
     ]
    }
   ],
   "source": [
    "print(\"Пропуски в данных:\")\n",
    "print(combined_df.isnull().sum())\n",
    "print(f\"Всего пропусков: {combined_df.isnull().sum().sum()}\")"
   ]
  },
  {
   "cell_type": "code",
   "execution_count": 12,
   "id": "ece61c69",
   "metadata": {},
   "outputs": [
    {
     "name": "stdout",
     "output_type": "stream",
     "text": [
      "X shape: (3532163, 3)\n",
      "y shape: (3532163,)\n"
     ]
    }
   ],
   "source": [
    "X = combined_df[['AccX', 'AccY', 'AccZ']] \n",
    "y = combined_df['category'] \n",
    "\n",
    "print(f\"X shape: {X.shape}\")\n",
    "print(f\"y shape: {y.shape}\")"
   ]
  },
  {
   "cell_type": "code",
   "execution_count": 13,
   "id": "10406553",
   "metadata": {},
   "outputs": [
    {
     "name": "stdout",
     "output_type": "stream",
     "text": [
      "Уникальные классы: 16\n",
      "Соответствие классов:\n",
      "  0: Electrical fault\n",
      "  1: Electrical fault with load\n",
      "  2: Electrical fault with load and noise\n",
      "  3: Electrical fault with noise\n",
      "  4: Mechanical and Electrical fault\n",
      "  5: Mechanical and Electrical fault with load and noise\n",
      "  6: Mechanical and Electrical fault with noise\n",
      "  7: Mechanical fault (shaft misalignment)\n",
      "  8: Mechanical fault (shaft misalignment) with load\n",
      "  9: Mechanical fault with high noise\n",
      "  10: Mechanical fault with load and noise\n",
      "  11: Mechanical fault with noise\n",
      "  12: Normal operation\n",
      "  13: Normal operation with load\n",
      "  14: Normal operation with load and noise\n",
      "  15: Normal operation with noise\n"
     ]
    }
   ],
   "source": [
    "label_encoder = LabelEncoder()\n",
    "y_encoded = label_encoder.fit_transform(y)\n",
    "\n",
    "print(f\"Уникальные классы: {len(np.unique(y_encoded))}\")\n",
    "print(\"Соответствие классов:\")\n",
    "for i, class_name in enumerate(label_encoder.classes_):\n",
    "    print(f\"  {i}: {class_name}\")\n"
   ]
  },
  {
   "cell_type": "code",
   "execution_count": 14,
   "id": "e98f3864",
   "metadata": {},
   "outputs": [
    {
     "name": "stdout",
     "output_type": "stream",
     "text": [
      "Обучающая выборка: (2472514, 3), (2472514,)\n",
      "Тестовая выборка: (1059649, 3), (1059649,)\n"
     ]
    }
   ],
   "source": [
    "X_train, X_test, y_train, y_test = train_test_split(\n",
    "    X, y_encoded, \n",
    "    test_size=0.3, \n",
    "    stratify=y_encoded, \n",
    "    random_state=42\n",
    ")\n",
    "\n",
    "print(f\"Обучающая выборка: {X_train.shape}, {y_train.shape}\")\n",
    "print(f\"Тестовая выборка: {X_test.shape}, {y_test.shape}\")"
   ]
  },
  {
   "cell_type": "code",
   "execution_count": 15,
   "id": "e4341efc",
   "metadata": {},
   "outputs": [],
   "source": [
    "scaler = StandardScaler()\n",
    "X_train_scaled = scaler.fit_transform(X_train)\n",
    "X_test_scaled = scaler.transform(X_test)"
   ]
  },
  {
   "cell_type": "code",
   "execution_count": 17,
   "id": "76675814",
   "metadata": {},
   "outputs": [],
   "source": [
    "input_dim = X_train_scaled.shape[1]\n",
    "num_classes = len(np.unique(y_encoded))\n"
   ]
  },
  {
   "cell_type": "code",
   "execution_count": null,
   "id": "2aea6e6f",
   "metadata": {},
   "outputs": [
    {
     "name": "stderr",
     "output_type": "stream",
     "text": [
      "c:\\Users\\User\\Downloads\\archive (2)\\.venv\\Lib\\site-packages\\keras\\src\\layers\\core\\dense.py:92: UserWarning: Do not pass an `input_shape`/`input_dim` argument to a layer. When using Sequential models, prefer using an `Input(shape)` object as the first layer in the model instead.\n",
      "  super().__init__(activity_regularizer=activity_regularizer, **kwargs)\n"
     ]
    },
    {
     "data": {
      "text/html": [
       "<pre style=\"white-space:pre;overflow-x:auto;line-height:normal;font-family:Menlo,'DejaVu Sans Mono',consolas,'Courier New',monospace\"><span style=\"font-weight: bold\">Model: \"sequential\"</span>\n",
       "</pre>\n"
      ],
      "text/plain": [
       "\u001b[1mModel: \"sequential\"\u001b[0m\n"
      ]
     },
     "metadata": {},
     "output_type": "display_data"
    },
    {
     "data": {
      "text/html": [
       "<pre style=\"white-space:pre;overflow-x:auto;line-height:normal;font-family:Menlo,'DejaVu Sans Mono',consolas,'Courier New',monospace\">┏━━━━━━━━━━━━━━━━━━━━━━━━━━━━━━━━━┳━━━━━━━━━━━━━━━━━━━━━━━━┳━━━━━━━━━━━━━━━┓\n",
       "┃<span style=\"font-weight: bold\"> Layer (type)                    </span>┃<span style=\"font-weight: bold\"> Output Shape           </span>┃<span style=\"font-weight: bold\">       Param # </span>┃\n",
       "┡━━━━━━━━━━━━━━━━━━━━━━━━━━━━━━━━━╇━━━━━━━━━━━━━━━━━━━━━━━━╇━━━━━━━━━━━━━━━┩\n",
       "│ dense (<span style=\"color: #0087ff; text-decoration-color: #0087ff\">Dense</span>)                   │ (<span style=\"color: #00d7ff; text-decoration-color: #00d7ff\">None</span>, <span style=\"color: #00af00; text-decoration-color: #00af00\">64</span>)             │           <span style=\"color: #00af00; text-decoration-color: #00af00\">256</span> │\n",
       "├─────────────────────────────────┼────────────────────────┼───────────────┤\n",
       "│ dense_1 (<span style=\"color: #0087ff; text-decoration-color: #0087ff\">Dense</span>)                 │ (<span style=\"color: #00d7ff; text-decoration-color: #00d7ff\">None</span>, <span style=\"color: #00af00; text-decoration-color: #00af00\">32</span>)             │         <span style=\"color: #00af00; text-decoration-color: #00af00\">2,080</span> │\n",
       "├─────────────────────────────────┼────────────────────────┼───────────────┤\n",
       "│ dense_2 (<span style=\"color: #0087ff; text-decoration-color: #0087ff\">Dense</span>)                 │ (<span style=\"color: #00d7ff; text-decoration-color: #00d7ff\">None</span>, <span style=\"color: #00af00; text-decoration-color: #00af00\">16</span>)             │           <span style=\"color: #00af00; text-decoration-color: #00af00\">528</span> │\n",
       "└─────────────────────────────────┴────────────────────────┴───────────────┘\n",
       "</pre>\n"
      ],
      "text/plain": [
       "┏━━━━━━━━━━━━━━━━━━━━━━━━━━━━━━━━━┳━━━━━━━━━━━━━━━━━━━━━━━━┳━━━━━━━━━━━━━━━┓\n",
       "┃\u001b[1m \u001b[0m\u001b[1mLayer (type)                   \u001b[0m\u001b[1m \u001b[0m┃\u001b[1m \u001b[0m\u001b[1mOutput Shape          \u001b[0m\u001b[1m \u001b[0m┃\u001b[1m \u001b[0m\u001b[1m      Param #\u001b[0m\u001b[1m \u001b[0m┃\n",
       "┡━━━━━━━━━━━━━━━━━━━━━━━━━━━━━━━━━╇━━━━━━━━━━━━━━━━━━━━━━━━╇━━━━━━━━━━━━━━━┩\n",
       "│ dense (\u001b[38;5;33mDense\u001b[0m)                   │ (\u001b[38;5;45mNone\u001b[0m, \u001b[38;5;34m64\u001b[0m)             │           \u001b[38;5;34m256\u001b[0m │\n",
       "├─────────────────────────────────┼────────────────────────┼───────────────┤\n",
       "│ dense_1 (\u001b[38;5;33mDense\u001b[0m)                 │ (\u001b[38;5;45mNone\u001b[0m, \u001b[38;5;34m32\u001b[0m)             │         \u001b[38;5;34m2,080\u001b[0m │\n",
       "├─────────────────────────────────┼────────────────────────┼───────────────┤\n",
       "│ dense_2 (\u001b[38;5;33mDense\u001b[0m)                 │ (\u001b[38;5;45mNone\u001b[0m, \u001b[38;5;34m16\u001b[0m)             │           \u001b[38;5;34m528\u001b[0m │\n",
       "└─────────────────────────────────┴────────────────────────┴───────────────┘\n"
      ]
     },
     "metadata": {},
     "output_type": "display_data"
    },
    {
     "data": {
      "text/html": [
       "<pre style=\"white-space:pre;overflow-x:auto;line-height:normal;font-family:Menlo,'DejaVu Sans Mono',consolas,'Courier New',monospace\"><span style=\"font-weight: bold\"> Total params: </span><span style=\"color: #00af00; text-decoration-color: #00af00\">2,864</span> (11.19 KB)\n",
       "</pre>\n"
      ],
      "text/plain": [
       "\u001b[1m Total params: \u001b[0m\u001b[38;5;34m2,864\u001b[0m (11.19 KB)\n"
      ]
     },
     "metadata": {},
     "output_type": "display_data"
    },
    {
     "data": {
      "text/html": [
       "<pre style=\"white-space:pre;overflow-x:auto;line-height:normal;font-family:Menlo,'DejaVu Sans Mono',consolas,'Courier New',monospace\"><span style=\"font-weight: bold\"> Trainable params: </span><span style=\"color: #00af00; text-decoration-color: #00af00\">2,864</span> (11.19 KB)\n",
       "</pre>\n"
      ],
      "text/plain": [
       "\u001b[1m Trainable params: \u001b[0m\u001b[38;5;34m2,864\u001b[0m (11.19 KB)\n"
      ]
     },
     "metadata": {},
     "output_type": "display_data"
    },
    {
     "data": {
      "text/html": [
       "<pre style=\"white-space:pre;overflow-x:auto;line-height:normal;font-family:Menlo,'DejaVu Sans Mono',consolas,'Courier New',monospace\"><span style=\"font-weight: bold\"> Non-trainable params: </span><span style=\"color: #00af00; text-decoration-color: #00af00\">0</span> (0.00 B)\n",
       "</pre>\n"
      ],
      "text/plain": [
       "\u001b[1m Non-trainable params: \u001b[0m\u001b[38;5;34m0\u001b[0m (0.00 B)\n"
      ]
     },
     "metadata": {},
     "output_type": "display_data"
    },
    {
     "name": "stdout",
     "output_type": "stream",
     "text": [
      "None\n"
     ]
    }
   ],
   "source": [
    "model = Sequential()\n",
    "model.add(Dense(64, input_dim=input_dim, activation='relu'))\n",
    "model.add(Dense(32, activation='relu'))\n",
    "model.add(Dense(num_classes, activation='softmax')) \n",
    "\n",
    "model.compile(\n",
    "    loss='sparse_categorical_crossentropy',\n",
    "    optimizer='adam', \n",
    "    metrics=['accuracy']\n",
    ")\n",
    "\n",
    "print(model.summary())"
   ]
  },
  {
   "cell_type": "code",
   "execution_count": 20,
   "id": "0e4d4ce3",
   "metadata": {},
   "outputs": [
    {
     "name": "stdout",
     "output_type": "stream",
     "text": [
      "Epoch 1/15\n",
      "\u001b[1m38634/38634\u001b[0m \u001b[32m━━━━━━━━━━━━━━━━━━━━\u001b[0m\u001b[37m\u001b[0m \u001b[1m90s\u001b[0m 2ms/step - accuracy: 0.1815 - loss: 2.3931 - val_accuracy: 0.1839 - val_loss: 2.3843\n",
      "Epoch 2/15\n",
      "\u001b[1m38634/38634\u001b[0m \u001b[32m━━━━━━━━━━━━━━━━━━━━\u001b[0m\u001b[37m\u001b[0m \u001b[1m82s\u001b[0m 2ms/step - accuracy: 0.1836 - loss: 2.3849 - val_accuracy: 0.1823 - val_loss: 2.3859\n",
      "Epoch 3/15\n",
      "\u001b[1m38634/38634\u001b[0m \u001b[32m━━━━━━━━━━━━━━━━━━━━\u001b[0m\u001b[37m\u001b[0m \u001b[1m84s\u001b[0m 2ms/step - accuracy: 0.1840 - loss: 2.3841 - val_accuracy: 0.1846 - val_loss: 2.3840\n",
      "Epoch 4/15\n",
      "\u001b[1m38634/38634\u001b[0m \u001b[32m━━━━━━━━━━━━━━━━━━━━\u001b[0m\u001b[37m\u001b[0m \u001b[1m91s\u001b[0m 2ms/step - accuracy: 0.1842 - loss: 2.3837 - val_accuracy: 0.1845 - val_loss: 2.3833\n",
      "Epoch 5/15\n",
      "\u001b[1m38634/38634\u001b[0m \u001b[32m━━━━━━━━━━━━━━━━━━━━\u001b[0m\u001b[37m\u001b[0m \u001b[1m83s\u001b[0m 2ms/step - accuracy: 0.1842 - loss: 2.3834 - val_accuracy: 0.1837 - val_loss: 2.3838\n",
      "Epoch 6/15\n",
      "\u001b[1m38634/38634\u001b[0m \u001b[32m━━━━━━━━━━━━━━━━━━━━\u001b[0m\u001b[37m\u001b[0m \u001b[1m82s\u001b[0m 2ms/step - accuracy: 0.1842 - loss: 2.3831 - val_accuracy: 0.1840 - val_loss: 2.3833\n",
      "Epoch 7/15\n",
      "\u001b[1m38634/38634\u001b[0m \u001b[32m━━━━━━━━━━━━━━━━━━━━\u001b[0m\u001b[37m\u001b[0m \u001b[1m83s\u001b[0m 2ms/step - accuracy: 0.1845 - loss: 2.3830 - val_accuracy: 0.1846 - val_loss: 2.3837\n",
      "Epoch 8/15\n",
      "\u001b[1m38634/38634\u001b[0m \u001b[32m━━━━━━━━━━━━━━━━━━━━\u001b[0m\u001b[37m\u001b[0m \u001b[1m82s\u001b[0m 2ms/step - accuracy: 0.1846 - loss: 2.3829 - val_accuracy: 0.1841 - val_loss: 2.3831\n",
      "Epoch 9/15\n",
      "\u001b[1m38634/38634\u001b[0m \u001b[32m━━━━━━━━━━━━━━━━━━━━\u001b[0m\u001b[37m\u001b[0m \u001b[1m82s\u001b[0m 2ms/step - accuracy: 0.1844 - loss: 2.3828 - val_accuracy: 0.1844 - val_loss: 2.3838\n",
      "Epoch 10/15\n",
      "\u001b[1m38634/38634\u001b[0m \u001b[32m━━━━━━━━━━━━━━━━━━━━\u001b[0m\u001b[37m\u001b[0m \u001b[1m86s\u001b[0m 2ms/step - accuracy: 0.1847 - loss: 2.3828 - val_accuracy: 0.1840 - val_loss: 2.3832\n",
      "Epoch 11/15\n",
      "\u001b[1m38634/38634\u001b[0m \u001b[32m━━━━━━━━━━━━━━━━━━━━\u001b[0m\u001b[37m\u001b[0m \u001b[1m85s\u001b[0m 2ms/step - accuracy: 0.1846 - loss: 2.3827 - val_accuracy: 0.1842 - val_loss: 2.3827\n",
      "Epoch 12/15\n",
      "\u001b[1m38634/38634\u001b[0m \u001b[32m━━━━━━━━━━━━━━━━━━━━\u001b[0m\u001b[37m\u001b[0m \u001b[1m82s\u001b[0m 2ms/step - accuracy: 0.1844 - loss: 2.3827 - val_accuracy: 0.1847 - val_loss: 2.3827\n",
      "Epoch 13/15\n",
      "\u001b[1m38634/38634\u001b[0m \u001b[32m━━━━━━━━━━━━━━━━━━━━\u001b[0m\u001b[37m\u001b[0m \u001b[1m82s\u001b[0m 2ms/step - accuracy: 0.1846 - loss: 2.3826 - val_accuracy: 0.1843 - val_loss: 2.3830\n",
      "Epoch 14/15\n",
      "\u001b[1m38634/38634\u001b[0m \u001b[32m━━━━━━━━━━━━━━━━━━━━\u001b[0m\u001b[37m\u001b[0m \u001b[1m84s\u001b[0m 2ms/step - accuracy: 0.1847 - loss: 2.3826 - val_accuracy: 0.1845 - val_loss: 2.3828\n",
      "Epoch 15/15\n",
      "\u001b[1m38634/38634\u001b[0m \u001b[32m━━━━━━━━━━━━━━━━━━━━\u001b[0m\u001b[37m\u001b[0m \u001b[1m82s\u001b[0m 2ms/step - accuracy: 0.1847 - loss: 2.3826 - val_accuracy: 0.1840 - val_loss: 2.3828\n"
     ]
    }
   ],
   "source": [
    "history = model.fit(\n",
    "    x=X_train_scaled, \n",
    "    y=y_train, \n",
    "    batch_size=64, \n",
    "    epochs=15,\n",
    "    validation_data=(X_test_scaled, y_test), \n",
    "    verbose=1\n",
    ")\n"
   ]
  },
  {
   "cell_type": "code",
   "execution_count": 21,
   "id": "7c8f3a0d",
   "metadata": {},
   "outputs": [
    {
     "name": "stdout",
     "output_type": "stream",
     "text": [
      "\n",
      "Точность на тестовой выборке: 0.1840\n"
     ]
    }
   ],
   "source": [
    "test_loss, test_accuracy = model.evaluate(X_test_scaled, y_test, verbose=0)\n",
    "print(f\"\\nТочность на тестовой выборке: {test_accuracy:.4f}\")"
   ]
  }
 ],
 "metadata": {
  "kernelspec": {
   "display_name": ".venv (3.13.3)",
   "language": "python",
   "name": "python3"
  },
  "language_info": {
   "codemirror_mode": {
    "name": "ipython",
    "version": 3
   },
   "file_extension": ".py",
   "mimetype": "text/x-python",
   "name": "python",
   "nbconvert_exporter": "python",
   "pygments_lexer": "ipython3",
   "version": "3.13.3"
  }
 },
 "nbformat": 4,
 "nbformat_minor": 5
}
